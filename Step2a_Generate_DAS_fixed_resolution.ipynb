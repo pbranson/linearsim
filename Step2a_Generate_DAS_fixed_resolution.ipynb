{
 "cells": [
  {
   "cell_type": "code",
   "execution_count": null,
   "metadata": {},
   "outputs": [],
   "source": [
    "import xarray as xr\n",
    "import numpy as np\n",
    "import dask\n",
    "import dask.array as da\n",
    "from dask.diagnostics import ProgressBar"
   ]
  },
  {
   "cell_type": "code",
   "execution_count": null,
   "metadata": {},
   "outputs": [],
   "source": [
    "from linearsim import time_domain_das"
   ]
  },
  {
   "cell_type": "markdown",
   "metadata": {},
   "source": [
    "# Generate a dataset of input spectra "
   ]
  },
  {
   "cell_type": "code",
   "execution_count": null,
   "metadata": {},
   "outputs": [],
   "source": [
    "ds_spec = xr.Dataset()\n",
    "ds_spec['Gamma'] = xr.DataArray(da.arange(1,7,0.5),dims='gamma')\n",
    "ds_spec['Tp'] = xr.DataArray(da.arange(8,20.5,0.5),dims='tp')\n",
    "ds_spec['Duration'] = xr.DataArray(da.array([2,5,10,20,40,60])*60,dims='duration')\n",
    "n_seed = 10000\n",
    "ds_spec['Seed'] = xr.DataArray(da.arange(n_seed,chunks=(500,)).astype('int'),dims='seed')\n",
    "ds_spec['this_seed'] = xr.DataArray(da.random.choice(int(1E9), size=(len(ds_spec['Tp']), len(ds_spec['Gamma']), len(ds_spec['Duration']), n_seed)).astype('int'), dims=('tp','gamma','duration','seed'))\n",
    "ds_spec = ds_spec.chunk({'tp':1,'gamma':-1,'duration':1,'seed':2000})\n",
    "ds_spec"
   ]
  },
  {
   "cell_type": "code",
   "execution_count": null,
   "metadata": {},
   "outputs": [],
   "source": [
    "ds_spec['Tz'], ds_spec['Hs'], ds_spec['Hmax'], ds_spec['H13'], ds_spec['r'], _ = xr.apply_ufunc(time_domain_das,\n",
    "                                                                                ds_spec['Tp'],\n",
    "                                                                                1.0,\n",
    "                                                                                ds_spec['Gamma'],\n",
    "                                                                                ds_spec['Duration'],\n",
    "                                                                                0.5,\n",
    "                                                                                ds_spec['this_seed'],\n",
    "                                                                                kwargs=dict(fft_equiv_duration=60*60),\n",
    "                                                                                input_core_dims=[[],[],[],[],[],[]],\n",
    "                                                                                output_core_dims=[[],[],[],[],[],[]],\n",
    "                                                                                vectorize=True,\n",
    "                                                                                dask='parallelized',\n",
    "                                                                                output_dtypes=['float','float','float','float','float','int']\n",
    "                                                                                )"
   ]
  },
  {
   "cell_type": "code",
   "execution_count": null,
   "metadata": {},
   "outputs": [],
   "source": [
    "ds_spec_chunked = ds_spec.chunk({'tp':1,'gamma':-1,'duration':1,'seed':-1})\n",
    "\n",
    "# Use multiple processes to calculate timeseries\n",
    "with dask.config.set(scheduler='processes'):\n",
    "    with ProgressBar():\n",
    "        ds_spec_chunked.to_zarr('data/timeseries_stats/DAS_n10000_2Hz_fixedres.zarr',mode='w')"
   ]
  },
  {
   "cell_type": "markdown",
   "metadata": {},
   "source": [
    "# Analyse saved results"
   ]
  },
  {
   "cell_type": "code",
   "execution_count": null,
   "metadata": {},
   "outputs": [],
   "source": [
    "ds_spec = xr.open_zarr('DAS_n10000_2Hz_fixedres.zarr').load()\n",
    "ds_spec = ds_spec.rename({'Duration':'duration','Gamma':'gamma','Tp':'tp','Seed':'seed'})\n",
    "ds_spec = ds_spec.assign_coords({'duration':ds_spec['duration'],'gamma':ds_spec['gamma'],'tp':ds_spec['tp'],'seed':range(len(ds_spec['seed']))})\n",
    "ds_spec['HmHs'] = ds_spec['Hmax']/ds_spec['Hs']\n",
    "ds_std = ds_spec.std(dim='seed')\n",
    "ds_mean = ds_spec.mean(dim='seed')\n",
    "ds_max = ds_spec.max(dim='seed')\n",
    "ds_CV = ds_std/ds_mean\n",
    "ds_CV"
   ]
  },
  {
   "cell_type": "code",
   "execution_count": null,
   "metadata": {},
   "outputs": [],
   "source": [
    "import hvplot.xarray\n",
    "import holoviews as hv"
   ]
  },
  {
   "cell_type": "code",
   "execution_count": null,
   "metadata": {},
   "outputs": [],
   "source": [
    "layout = []\n",
    "for v in ds_mean.data_vars:\n",
    "    layout.append(ds_mean[v].hvplot.image(groupby=['duration'],cmap='viridis',aspect=1,title=v))\n",
    "layout = hv.Layout(layout).cols(3)\n",
    "\n",
    "hv.save(layout,filename=\"figures/timeseries_stats/DAS_Mean_fixedres.html\")"
   ]
  },
  {
   "cell_type": "code",
   "execution_count": null,
   "metadata": {},
   "outputs": [],
   "source": [
    "layout = []\n",
    "for v in ds_CV.data_vars:\n",
    "    layout.append(ds_CV[v].hvplot.image(groupby=['duration'],cmap='viridis',aspect=1,title=v))\n",
    "layout = hv.Layout(layout).cols(3)\n",
    "\n",
    "hv.save(layout,filename=\"figures/timeseries_stats/DAS_CV_fixedres.html\")"
   ]
  },
  {
   "cell_type": "code",
   "execution_count": null,
   "metadata": {},
   "outputs": [],
   "source": [
    "layout = []\n",
    "for v in ds_max.data_vars:\n",
    "    layout.append(ds_max[v].hvplot.image(groupby=['duration'],cmap='viridis',aspect=1,title=v))\n",
    "layout = hv.Layout(layout).cols(3)\n",
    "\n",
    "hv.save(layout,filename=\"figures/timeseries_stats/DAS_Max_fixedres.html\")"
   ]
  },
  {
   "cell_type": "markdown",
   "metadata": {},
   "source": [
    "## Take a look at the largest wave event"
   ]
  },
  {
   "cell_type": "code",
   "execution_count": null,
   "metadata": {},
   "outputs": [],
   "source": [
    "hv.extension('bokeh')"
   ]
  },
  {
   "cell_type": "code",
   "execution_count": null,
   "metadata": {},
   "outputs": [],
   "source": [
    "ds_stacked = ds_spec.stack(sample=['tp','duration','gamma','seed'])\n",
    "im=ds_stacked.Hmax.argmax()\n",
    "largest_wave = ds_stacked.isel(sample=im)\n",
    "\n",
    "display(largest_wave)\n",
    "\n",
    "tp, duration, gamma,_ = np.array(largest_wave.sample.values.item())\n",
    "seed = int(largest_wave.this_seed)\n",
    "dt=0.5\n",
    "ts=time_domain_das(tp,1.0,gamma,duration,dt=dt,seed=seed,return_ts=True)\n",
    "da_ts = xr.DataArray(ts,dims='time',coords={'time':np.arange(0,duration,dt)},name='timeseries')\n",
    "\n",
    "# Double check that that the time series is generates correctly\n",
    "from linearsim import wave_stats\n",
    "print(f'ts statistics: {wave_stats(ts,1/dt)}')\n",
    "\n",
    "da_ts.hvplot(x='time')"
   ]
  },
  {
   "cell_type": "code",
   "execution_count": null,
   "metadata": {},
   "outputs": [],
   "source": []
  }
 ],
 "metadata": {
  "kernelspec": {
   "display_name": "Python 3.9.13 ('spectem')",
   "language": "python",
   "name": "python3"
  },
  "language_info": {
   "codemirror_mode": {
    "name": "ipython",
    "version": 3
   },
   "file_extension": ".py",
   "mimetype": "text/x-python",
   "name": "python",
   "nbconvert_exporter": "python",
   "pygments_lexer": "ipython3",
   "version": "3.9.13"
  },
  "orig_nbformat": 4,
  "vscode": {
   "interpreter": {
    "hash": "c44064dc6b1eba8586ad4f01501b43f80852b132e8c1f3c24e235fa6d61993b5"
   }
  }
 },
 "nbformat": 4,
 "nbformat_minor": 2
}
